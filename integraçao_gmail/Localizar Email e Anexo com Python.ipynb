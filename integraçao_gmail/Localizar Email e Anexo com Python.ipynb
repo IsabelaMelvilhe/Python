{
 "cells": [
  {
   "cell_type": "code",
   "execution_count": 99,
   "id": "435ef2e9",
   "metadata": {},
   "outputs": [],
   "source": [
    "from imap_tools import MailBox, AND\n",
    "\n",
    "usuario = \"usuario.exemplo@gmail.com\"\n",
    "senha =\"exemplo1\"\n",
    "\n",
    "meu_email = MailBox (\"imap.gmail.com\").login(usuario,senha)"
   ]
  },
  {
   "cell_type": "code",
   "execution_count": null,
   "id": "91d839ef",
   "metadata": {},
   "outputs": [],
   "source": [
    "#pegar email que foi enviado por um remetente especifico \n",
    "\n",
    "lista_emails = meu_email.fetch (AND(from_=\"remetente.exemplo@gmail.com\"))\n",
    "\n",
    "#print(len(list(lista_emails)))\n",
    "\n",
    "for email in lista_emails:\n",
    "    print(email.subject)\n",
    "    print(email.text)"
   ]
  },
  {
   "cell_type": "code",
   "execution_count": 104,
   "id": "54849bc4",
   "metadata": {},
   "outputs": [],
   "source": [
    "# pegar emails com um anexo específico e fazer download\n",
    "\n",
    "lista_emails = meu_email.fetch(AND(from_=\"remetente.exemplo@gmail.com\"))\n",
    "for email in lista_emails:\n",
    "    if len(email.attachments) > 0:\n",
    "        for anexo in email.attachments:\n",
    "            if \"RelatorioExcel\" in anexo.filename:\n",
    "                with open(\"RelatorioExcel.xlsx\", 'wb') as arquivo_excel:\n",
    "                    arquivo_excel.write(anexo.payload)"
   ]
  },
  {
   "cell_type": "code",
   "execution_count": 97,
   "id": "b4e91d9e",
   "metadata": {},
   "outputs": [],
   "source": []
  }
 ],
 "metadata": {
  "kernelspec": {
   "display_name": "Python 3 (ipykernel)",
   "language": "python",
   "name": "python3"
  },
  "language_info": {
   "codemirror_mode": {
    "name": "ipython",
    "version": 3
   },
   "file_extension": ".py",
   "mimetype": "text/x-python",
   "name": "python",
   "nbconvert_exporter": "python",
   "pygments_lexer": "ipython3",
   "version": "3.9.7"
  }
 },
 "nbformat": 4,
 "nbformat_minor": 5
}
